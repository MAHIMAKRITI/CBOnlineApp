{
  "nbformat": 4,
  "nbformat_minor": 0,
  "metadata": {
    "kernelspec": {
      "display_name": "Python 3",
      "language": "python",
      "name": "python3"
    },
    "language_info": {
      "codemirror_mode": {
        "name": "ipython",
        "version": 3
      },
      "file_extension": ".py",
      "mimetype": "text/x-python",
      "name": "python",
      "nbconvert_exporter": "python",
      "pygments_lexer": "ipython3",
      "version": "3.7.3"
    },
    "colab": {
      "name": "heart_1(modelselection).ipynb",
      "provenance": [],
      "include_colab_link": true
    }
  },
  "cells": [
    {
      "cell_type": "markdown",
      "metadata": {
        "id": "view-in-github",
        "colab_type": "text"
      },
      "source": [
        "<a href=\"https://colab.research.google.com/github/MAHIMAKRITI/CBOnlineApp/blob/master/heart_1(modelselection).ipynb\" target=\"_parent\"><img src=\"https://colab.research.google.com/assets/colab-badge.svg\" alt=\"Open In Colab\"/></a>"
      ]
    },
    {
      "cell_type": "code",
      "metadata": {
        "id": "CVYXAk-PPoPJ",
        "colab_type": "code",
        "colab": {}
      },
      "source": [
        "#importing all libraries\n",
        "import numpy as np\n",
        "import pandas as pd\n",
        "import matplotlib.pyplot as plt\n",
        "from matplotlib import rcParams\n",
        "from matplotlib.cm import rainbow\n",
        "from sklearn.metrics import roc_auc_score\n",
        "from sklearn.model_selection import GridSearchCV\n",
        "from sklearn.metrics import accuracy_score\n",
        "from sklearn.svm import SVC\n",
        "from sklearn.tree import DecisionTreeClassifier\n",
        "import warnings\n",
        "warnings.filterwarnings('ignore')\n",
        "# Machine Learning\n",
        "from sklearn.neighbors import KNeighborsClassifier\n",
        "from sklearn.svm import SVC\n",
        "from sklearn.tree import DecisionTreeClassifier\n",
        "from sklearn.ensemble import RandomForestClassifier"
      ],
      "execution_count": null,
      "outputs": []
    },
    {
      "cell_type": "code",
      "metadata": {
        "id": "dBToEb5tPoPN",
        "colab_type": "code",
        "colab": {},
        "outputId": "9473a67f-51aa-4d20-eae2-87382fae4de4"
      },
      "source": [
        "dataset1=pd.read_csv(\"C:/Users/HP/Desktop/project/heart-10-fold/heart-1tra.csv\")\n",
        "print(dataset1.groupby('Class').size())"
      ],
      "execution_count": null,
      "outputs": [
        {
          "output_type": "stream",
          "text": [
            "Class\n",
            "1    135\n",
            "2    108\n",
            "dtype: int64\n"
          ],
          "name": "stdout"
        }
      ]
    },
    {
      "cell_type": "code",
      "metadata": {
        "id": "Vezl9T4gPoPR",
        "colab_type": "code",
        "colab": {}
      },
      "source": [
        "#One Hot Encoding all the categorical variables\n",
        "dataset1 = pd.get_dummies(dataset1, columns = ['ChestPainType', 'ResElectrocardiographic','Slope', 'MajorVessels', 'Thal' ,'Class'])\n",
        "list_drop1 = ['ChestPainType_4','Slope_3','MajorVessels_3','Thal_7','ResElectrocardiographic_2', 'Class_2' ]\n",
        "dataset1.drop(list_drop1, axis=1, inplace=True)\n",
        "X=dataset1.iloc[:,0:20].values\n",
        "y=dataset1.iloc[:,20:21].values\n"
      ],
      "execution_count": null,
      "outputs": []
    },
    {
      "cell_type": "code",
      "metadata": {
        "id": "9zyvbsljPoPT",
        "colab_type": "code",
        "colab": {}
      },
      "source": [
        "#feature scaling the training and testing dataset\n",
        "from sklearn.model_selection import train_test_split\n",
        "X_train, X_test, y_train, y_test = train_test_split(X, y , test_size=0.2, random_state=0)"
      ],
      "execution_count": null,
      "outputs": []
    },
    {
      "cell_type": "code",
      "metadata": {
        "id": "IamrzNhFPoPW",
        "colab_type": "code",
        "colab": {}
      },
      "source": [
        "#splitting our dataset into training and testing\n",
        "\n",
        "from sklearn.preprocessing import StandardScaler as ss\n",
        "sc = ss()\n",
        "X = sc.fit_transform(X_train)\n",
        "X = sc.transform(X_test)"
      ],
      "execution_count": null,
      "outputs": []
    },
    {
      "cell_type": "code",
      "metadata": {
        "id": "HwH6pEvyPoPY",
        "colab_type": "code",
        "colab": {},
        "outputId": "d1235d3f-1090-465a-972d-8e21a9def99c"
      },
      "source": [
        "#fitting into the first classifier-----KNN\n",
        "classifier1 = KNeighborsClassifier()\n",
        "classifier1.fit(X_train, y_train)\n",
        "y_pred1 = classifier1.predict(X_test)\n",
        "print(accuracy_score(y_test, y_pred1))"
      ],
      "execution_count": null,
      "outputs": [
        {
          "output_type": "stream",
          "text": [
            "0.8163265306122449\n"
          ],
          "name": "stdout"
        }
      ]
    },
    {
      "cell_type": "code",
      "metadata": {
        "id": "HaeB5_6iPoPa",
        "colab_type": "code",
        "colab": {},
        "outputId": "256030b0-3a12-4692-a6cc-aa93b8a2212a"
      },
      "source": [
        "#fitting into our second classifier ------ Support Vector Classifier\n",
        "\n",
        "classifier2 = SVC(kernel = 'rbf')\n",
        "classifier2.fit(X_train, y_train)\n",
        "y_pred2 = classifier1.predict(X_test)\n",
        "print(accuracy_score(y_test, y_pred2))"
      ],
      "execution_count": null,
      "outputs": [
        {
          "output_type": "stream",
          "text": [
            "0.8163265306122449\n"
          ],
          "name": "stdout"
        }
      ]
    },
    {
      "cell_type": "code",
      "metadata": {
        "id": "l85omYUUPoPd",
        "colab_type": "code",
        "colab": {},
        "outputId": "b455789d-5385-4ed3-9d1b-7d35ebcd13e2"
      },
      "source": [
        "#fitting our third classifier ----------- Decision Tree Classifier\n",
        "classifier3 = DecisionTreeClassifier()\n",
        "classifier3.fit(X_train, y_train)\n",
        "y_pred3 = classifier3.predict(X_test)\n",
        "print(accuracy_score(y_test, y_pred3))"
      ],
      "execution_count": null,
      "outputs": [
        {
          "output_type": "stream",
          "text": [
            "0.7346938775510204\n"
          ],
          "name": "stdout"
        }
      ]
    },
    {
      "cell_type": "code",
      "metadata": {
        "id": "hTD7McTqPoPf",
        "colab_type": "code",
        "colab": {},
        "outputId": "ddce197f-0f09-498f-b384-60fac3942630"
      },
      "source": [
        "from sklearn.linear_model import LogisticRegression\n",
        "classifier4 = LogisticRegression()\n",
        "classifier4.fit(X_train, y_train)\n",
        "y_pred4 = classifier4.predict(X_test)\n",
        "print(accuracy_score(y_test, y_pred4))\n"
      ],
      "execution_count": null,
      "outputs": [
        {
          "output_type": "stream",
          "text": [
            "0.8163265306122449\n"
          ],
          "name": "stdout"
        }
      ]
    },
    {
      "cell_type": "code",
      "metadata": {
        "id": "eWhL-b9OPoPh",
        "colab_type": "code",
        "colab": {},
        "outputId": "998ac1cf-1c22-45fe-8250-3f85224949ed"
      },
      "source": [
        "from sklearn.naive_bayes import GaussianNB\n",
        "classifier5 = GaussianNB()\n",
        "classifier5.fit(X_train, y_train)\n",
        "\n",
        "\n",
        "# Predicting the Test set results\n",
        "y_pred5 = classifier5.predict(X_test)\n",
        "print(accuracy_score(y_test, y_pred5))"
      ],
      "execution_count": null,
      "outputs": [
        {
          "output_type": "stream",
          "text": [
            "0.8979591836734694\n"
          ],
          "name": "stdout"
        }
      ]
    },
    {
      "cell_type": "code",
      "metadata": {
        "id": "QON9_WfWPoPj",
        "colab_type": "code",
        "colab": {},
        "outputId": "a0f26134-73be-4b26-aa64-018ac072f73b"
      },
      "source": [
        "from sklearn.ensemble import RandomForestClassifier\n",
        "classifier6 = RandomForestClassifier(n_estimators = 10)\n",
        "classifier6.fit(X_train, y_train)\n",
        "\n",
        "# Predicting the Test set results\n",
        "y_pred6 = classifier6.predict(X_test)\n",
        "print(accuracy_score(y_test, y_pred6))"
      ],
      "execution_count": null,
      "outputs": [
        {
          "output_type": "stream",
          "text": [
            "0.8571428571428571\n"
          ],
          "name": "stdout"
        }
      ]
    },
    {
      "cell_type": "code",
      "metadata": {
        "id": "xYkcjQ7YPoPl",
        "colab_type": "code",
        "colab": {}
      },
      "source": [
        "\n"
      ],
      "execution_count": null,
      "outputs": []
    }
  ]
}